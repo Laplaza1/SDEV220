{
 "cells": [
  {
   "cell_type": "code",
   "execution_count": 24,
   "id": "71dd57c7-f737-48ef-acf1-9dc8fdf60c6d",
   "metadata": {
    "scrolled": true
   },
   "outputs": [
    {
     "name": "stdout",
     "output_type": "stream",
     "text": [
      "Seconds per hour : 3600\n",
      "Seconds per day : 86400\n",
      "Seconds per day / Seconds per hour : 24.0\n",
      "Seconds per day // Seconds per hour : 24\n"
     ]
    }
   ],
   "source": [
    "seconds_per_hour = 60*60\n",
    "print(\"Seconds per hour :\",seconds_per_hour)\n",
    "seconds_per_day = seconds_per_hour*24\n",
    "print(\"Seconds per day :\" ,seconds_per_day)\n",
    "print(\"Seconds per day / Seconds per hour :\",seconds_per_day/seconds_per_hour)\n",
    "print(\"Seconds per day // Seconds per hour :\",seconds_per_day//seconds_per_hour)\n"
   ]
  },
  {
   "cell_type": "code",
   "execution_count": null,
   "id": "81b85180-788e-48c0-af15-53568e378a42",
   "metadata": {},
   "outputs": [],
   "source": []
  }
 ],
 "metadata": {
  "kernelspec": {
   "display_name": "Python 3 (ipykernel)",
   "language": "python",
   "name": "python3"
  },
  "language_info": {
   "codemirror_mode": {
    "name": "ipython",
    "version": 3
   },
   "file_extension": ".py",
   "mimetype": "text/x-python",
   "name": "python",
   "nbconvert_exporter": "python",
   "pygments_lexer": "ipython3",
   "version": "3.12.4"
  }
 },
 "nbformat": 4,
 "nbformat_minor": 5
}
