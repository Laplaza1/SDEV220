{
 "cells": [
  {
   "cell_type": "code",
   "execution_count": 1,
   "id": "33b82f44-9a73-4175-a8c4-54f73139245e",
   "metadata": {},
   "outputs": [],
   "source": [
    "class Car:\n",
    "  def __init__(self, make,model,doors,roof):\n",
    "    self.make = make\n",
    "    self.model = model\n",
    "    self.doors = doors\n",
    "    self.roof = roof  ",
    "#Sets the Car class"
   ]
  },
  {
   "cell_type": "code",
   "execution_count": null,
   "id": "eed1589a-1eab-48d1-b8d2-639d14a3be8b",
   "metadata": {},
   "outputs": [],
   "source": [
    "#Creates the car and checks to make sure the user listened to directions",
    "p1 = Car(input(\"Make::\"),input(\"Model::\"),input(\"2 or 4 Doors::\") ,input(\"Solid Roof or Sunroof::\"))\n",
    "while p1.doors not in [str(2),str(4)]:\n",
    "  p1.doors = input(\"2 or 4 doors::\")\n",
    "while p1.roof.capitalize() not in  [\"Solid Roof\",\"Sunroof\"] :\n",
    "    p1.roof = input(\"Solid Roof or Sunroof::\")"
   ]
  },
  {
   "cell_type": "code",
   "execution_count": null,
   "id": "3f2c743d-4b5d-4902-8659-fcf56de8cbcf",
   "metadata": {},
   "outputs": [],
   "source": [
   
    "print(f\"Make::{p1.make}\\nModel::{p1.model}\\nDoors::{p1.doors}\\nRoof::{p1.roof}\")",
    "#Prints the results"
   ]
  },
  {
   "cell_type": "code",
   "execution_count": null,
   "id": "a4af019c-7c77-485a-9b01-6744863a8462",
   "metadata": {},
   "outputs": [],
   "source": []
  }
 ],
 "metadata": {
  "kernelspec": {
   "display_name": "Python 3 (ipykernel)",
   "language": "python",
   "name": "python3"
  },
  "language_info": {
   "codemirror_mode": {
    "name": "ipython",
    "version": 3
   },
   "file_extension": ".py",
   "mimetype": "text/x-python",
   "name": "python",
   "nbconvert_exporter": "python",
   "pygments_lexer": "ipython3",
   "version": "3.12.4"
  }
 },
 "nbformat": 4,
 "nbformat_minor": 5
}
