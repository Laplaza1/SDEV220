{
 "cells": [
  {
   "cell_type": "code",
   "execution_count": 2,
   "id": "efd1f174-ca12-4ca3-adc6-7ddef2363685",
   "metadata": {},
   "outputs": [],
   "source": [
    "years_list = [2000, 2001, 2002, 2003, 2004, 2005]"
   ]
  },
  {
   "cell_type": "code",
   "execution_count": 4,
   "id": "c508d104-6177-488f-8dda-3e69bca36a3b",
   "metadata": {},
   "outputs": [
    {
     "name": "stdout",
     "output_type": "stream",
     "text": [
      "2000 \n",
      " 2005\n"
     ]
    }
   ],
   "source": [
    "first_year= years_list[0]\n",
    "oldest_year= years_list[-1]\n",
    "print(first_year,\"\\n\",oldest_year)"
   ]
  },
  {
   "cell_type": "code",
   "execution_count": null,
   "id": "e7dd0346-427d-4c17-8619-e4c5c605e947",
   "metadata": {},
   "outputs": [],
   "source": [
    "things =[\"mozzarella\",\"cinderella\", \"salmonella\"]\n",
    "#Capitalizes element in index 1\n",
    "things[1]=things[1].capitalize()\n",
    "print(things)\n",
    "#Capitalizes element in index 0\n",
    "things[0]=things[0].upper()\n",
    "print(things)\n",
    "#Removes the element at a specific index which we used 2 for the params\n",
    "things.pop(2)\n",
    "print(things)"
   ]
  },
  {
   "cell_type": "code",
   "execution_count": null,
   "id": "42acb307-277f-4d90-9aa1-fcb3b501c153",
   "metadata": {},
   "outputs": [],
   "source": [
    "suprise =[\"Groucho\", \"Chico\",\"Harpo\"]\n",
    "#Makes the last element lowercase\n",
    "suprise[-1]=suprise[-1].lowercase()\n",
    "#Reverses the last element then capitalizes it\n",
    "suprise[-1][-1].capitalize()\n",
    "print(suprise)"
   ]
  },
  {
   "cell_type": "code",
   "execution_count": null,
   "id": "b312a86e-385d-4fa8-80d9-e8446f93c50c",
   "metadata": {},
   "outputs": [],
   "source": [
    "list = [] \n",
    "list = [x for x in range(10) if x %2==0]\n",
    "print(list)"
   ]
  },
  {
   "cell_type": "code",
   "execution_count": null,
   "id": "19bdc762-b323-45f2-be5b-824001d9e3ee",
   "metadata": {},
   "outputs": [],
   "source": [
    "def good():\n",
    "    return ['Harry', 'Ron', 'Hermione']\n",
    "\n",
    "good()\n",
    "\n",
    "def get_odds():\n",
    "    #Goes through the range to 10 then divides the element by 3 and doesn't equal 0 then returns the element and prints it if it is true \n",
    "    return [print(x) for x in range(10) if x%3==0 and x!=0]\n",
    "\n",
    "get_odds()"
   ]
  }
 ],
 "metadata": {
  "kernelspec": {
   "display_name": "Python 3 (ipykernel)",
   "language": "python",
   "name": "python3"
  },
  "language_info": {
   "codemirror_mode": {
    "name": "ipython",
    "version": 3
   },
   "file_extension": ".py",
   "mimetype": "text/x-python",
   "name": "python",
   "nbconvert_exporter": "python",
   "pygments_lexer": "ipython3",
   "version": "3.12.4"
  }
 },
 "nbformat": 4,
 "nbformat_minor": 5
}
