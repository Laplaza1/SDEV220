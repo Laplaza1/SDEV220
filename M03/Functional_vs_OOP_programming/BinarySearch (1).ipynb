{
 "cells": [
  {
   "cell_type": "code",
   "execution_count": 10,
   "id": "ba59541c-6354-43b7-8705-5a66e3a8b66a",
   "metadata": {},
   "outputs": [],
   "source": [
    "#User function template for Python\n",
    "\n",
    "class Solution:\n",
    "    def binarysearch(self, arr, k):\n",
    "        low = 0 \n",
    "        high = len(arr) - 1\n",
    "\n",
    "        while low <= high:\n",
    "            mid = (low + high) // 2          \n",
    "            if arr[mid] == k:\n",
    "                return mid       \n",
    "            elif arr[mid] < k:\n",
    "                low = mid + 1            \n",
    "            else:\n",
    "                high = mid - 1\n",
    "\n",
    "        return -1\n",
    "\n",
    "\n",
    "\n",
    "#{ \n",
    " # Driver Code Starts\n",
    "#Initial template for Python\n",
    "\n",
    "if __name__ == \"__main__\":\n",
    "    t = int(input())\n",
    "    for _ in range(t):\n",
    "        k = int(input())\n",
    "        arr = list(map(int, input().split()))\n",
    "        ob = Solution()\n",
    "        res = ob.binarysearch(arr, k)\n",
    "        print(res)\n",
    "        print(\"~\")\n",
    "\n",
    "# } Driver Code Ends"
   ]
  },
  {
   "cell_type": "code",
   "execution_count": 11,
   "id": "0a7d568d-7f9e-4a1c-80d0-f6ca96a581d2",
   "metadata": {},
   "outputs": [
    {
     "name": "stdout",
     "output_type": "stream",
     "text": [
      "3\n"
     ]
    }
   ],
   "source": [
    "print(binaryS(k = 4, arr= [1, 2, 3, 4, 5]))"
   ]
  },
  {
   "cell_type": "code",
   "execution_count": 12,
   "id": "2fd3c5e2-015b-4349-bcab-5d5c6fe78276",
   "metadata": {},
   "outputs": [
    {
     "name": "stdout",
     "output_type": "stream",
     "text": [
      "-1\n"
     ]
    }
   ],
   "source": [
    "print(binaryS(k = 445, arr= [11, 22, 33, 44, 55]))"
   ]
  },
  {
   "cell_type": "code",
   "execution_count": null,
   "id": "bf9ff007-3037-4f64-b978-9aab7082b54d",
   "metadata": {},
   "outputs": [],
   "source": []
  }
 ],
 "metadata": {
  "kernelspec": {
   "display_name": "Python 3 (ipykernel)",
   "language": "python",
   "name": "python3"
  },
  "language_info": {
   "codemirror_mode": {
    "name": "ipython",
    "version": 3
   },
   "file_extension": ".py",
   "mimetype": "text/x-python",
   "name": "python",
   "nbconvert_exporter": "python",
   "pygments_lexer": "ipython3",
   "version": "3.12.4"
  }
 },
 "nbformat": 4,
 "nbformat_minor": 5
}
