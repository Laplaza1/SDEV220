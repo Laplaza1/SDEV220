{
 "cells": [
  {
   "cell_type": "code",
   "execution_count": 36,
   "id": "c8463663-9b9d-4e12-8f6a-bf23aaa38e2b",
   "metadata": {},
   "outputs": [
    {
     "name": "stdout",
     "output_type": "stream",
     "text": [
      "Fri Nov 29 14:54:42 2024\n"
     ]
    }
   ],
   "source": [
    "import os\n",
    "import time\n",
    "\n",
    "\n",
    "with open(\"today.txt\",\"w\") as file:\n",
    "    now = time.time()\n",
    "    file.write(time.ctime(now))\n",
    "date = None\n",
    "with open(\"today.txt\",\"r\") as file:\n",
    "    date = file.read()\n",
    "    print(date)\n",
    "date = date.split()"
   ]
  },
  {
   "cell_type": "code",
   "execution_count": 56,
   "id": "74e27864-790d-4ebe-9b2e-67fb531e7b29",
   "metadata": {},
   "outputs": [
    {
     "name": "stdout",
     "output_type": "stream",
     "text": [
      "['Fri', 'Nov', '29', '2024']\n"
     ]
    }
   ],
   "source": [
    "\n",
    "day_of_week = date[0]\n",
    "month = date[1]\n",
    "day = date[2]\n",
    "time = date[3]\n",
    "year = date[4]\n",
    "print([date[i] for i in range(0,len(date)) if i!=3])\n"
   ]
  },
  {
   "cell_type": "code",
   "execution_count": 80,
   "id": "1d92e451-b752-42e4-887d-10173f2a959e",
   "metadata": {},
   "outputs": [],
   "source": [
    "import multiprocessing\n",
    "import time\n",
    "import os\n",
    "import random\n",
    "\n",
    "\n",
    "def wait():\n",
    "    time.sleep(random.randrange(0,1))\n",
    "    now = time.time()\n",
    "    print(time.ctime(now))\n",
    "    \n",
    "\n",
    "for i in range(0,3):\n",
    "    multiprocessing.Process(target=wait).start()\n",
    "        "
   ]
  },
  {
   "cell_type": "code",
   "execution_count": null,
   "id": "7f41ef1d-b56e-4b68-bc38-1bfc48dd3203",
   "metadata": {},
   "outputs": [],
   "source": []
  }
 ],
 "metadata": {
  "kernelspec": {
   "display_name": "Python 3 (ipykernel)",
   "language": "python",
   "name": "python3"
  },
  "language_info": {
   "codemirror_mode": {
    "name": "ipython",
    "version": 3
   },
   "file_extension": ".py",
   "mimetype": "text/x-python",
   "name": "python",
   "nbconvert_exporter": "python",
   "pygments_lexer": "ipython3",
   "version": "3.12.4"
  }
 },
 "nbformat": 4,
 "nbformat_minor": 5
}
